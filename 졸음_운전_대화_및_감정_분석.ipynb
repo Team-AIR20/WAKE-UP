{
  "nbformat": 4,
  "nbformat_minor": 0,
  "metadata": {
    "colab": {
      "provenance": []
    },
    "kernelspec": {
      "name": "python3",
      "display_name": "Python 3"
    },
    "language_info": {
      "name": "python"
    }
  },
  "cells": [
    {
      "cell_type": "code",
      "source": [
        "!pip install openai # open ai 설치"
      ],
      "metadata": {
        "colab": {
          "base_uri": "https://localhost:8080/"
        },
        "id": "RtIHQsyPLlrH",
        "outputId": "c8e4a98e-fe02-45b0-ebc1-93b56aa8840c"
      },
      "execution_count": null,
      "outputs": [
        {
          "output_type": "stream",
          "name": "stdout",
          "text": [
            "Collecting openai\n",
            "  Downloading openai-0.27.9-py3-none-any.whl (75 kB)\n",
            "\u001b[2K     \u001b[90m━━━━━━━━━━━━━━━━━━━━━━━━━━━━━━━━━━━━━━━━\u001b[0m \u001b[32m75.5/75.5 kB\u001b[0m \u001b[31m1.3 MB/s\u001b[0m eta \u001b[36m0:00:00\u001b[0m\n",
            "\u001b[?25hRequirement already satisfied: requests>=2.20 in /usr/local/lib/python3.10/dist-packages (from openai) (2.31.0)\n",
            "Requirement already satisfied: tqdm in /usr/local/lib/python3.10/dist-packages (from openai) (4.66.1)\n",
            "Requirement already satisfied: aiohttp in /usr/local/lib/python3.10/dist-packages (from openai) (3.8.5)\n",
            "Requirement already satisfied: charset-normalizer<4,>=2 in /usr/local/lib/python3.10/dist-packages (from requests>=2.20->openai) (3.2.0)\n",
            "Requirement already satisfied: idna<4,>=2.5 in /usr/local/lib/python3.10/dist-packages (from requests>=2.20->openai) (3.4)\n",
            "Requirement already satisfied: urllib3<3,>=1.21.1 in /usr/local/lib/python3.10/dist-packages (from requests>=2.20->openai) (2.0.4)\n",
            "Requirement already satisfied: certifi>=2017.4.17 in /usr/local/lib/python3.10/dist-packages (from requests>=2.20->openai) (2023.7.22)\n",
            "Requirement already satisfied: attrs>=17.3.0 in /usr/local/lib/python3.10/dist-packages (from aiohttp->openai) (23.1.0)\n",
            "Requirement already satisfied: multidict<7.0,>=4.5 in /usr/local/lib/python3.10/dist-packages (from aiohttp->openai) (6.0.4)\n",
            "Requirement already satisfied: async-timeout<5.0,>=4.0.0a3 in /usr/local/lib/python3.10/dist-packages (from aiohttp->openai) (4.0.3)\n",
            "Requirement already satisfied: yarl<2.0,>=1.0 in /usr/local/lib/python3.10/dist-packages (from aiohttp->openai) (1.9.2)\n",
            "Requirement already satisfied: frozenlist>=1.1.1 in /usr/local/lib/python3.10/dist-packages (from aiohttp->openai) (1.4.0)\n",
            "Requirement already satisfied: aiosignal>=1.1.2 in /usr/local/lib/python3.10/dist-packages (from aiohttp->openai) (1.3.1)\n",
            "Installing collected packages: openai\n",
            "Successfully installed openai-0.27.9\n"
          ]
        }
      ]
    },
    {
      "cell_type": "code",
      "source": [
        "import openai\n",
        "\n",
        "openai.api_key  = '*'"
      ],
      "metadata": {
        "id": "vvxu9sB0cw3v"
      },
      "execution_count": null,
      "outputs": []
    },
    {
      "cell_type": "code",
      "source": [
        "model='gpt-3.5-turbo'\n",
        "\n",
        "# query = '''아 오늘 직장 상사 떄문에 피곤해서 잠을 잘 못잤네, 졸려서 죽을 것 같아. 더이상은 못살아''' # 80\n",
        "# query = '''아 개운하다, 이렇게 컨티션이 좋을 줄이야''' # 0\n",
        "query = '''아 배고프네, 오늘 저녁 뭐뭑지''' #40\n",
        "\n",
        "messages = [\n",
        "    {\n",
        "        \"role\": \"system\",\n",
        "        \"content\": \"졸음 운전을 방지하기 위해 지속적으로 대화하는 역할. 사용자의 대화내용을 분석하여 졸린 정도를 판단해 답변합니다. 반드시 졸린 정도를 0부터 10까지의 숫자로 표현합니다. 출력 형식: '졸린정도(숫자만)#GPT답변'의 형태로 합니다.\"\n",
        "    },\n",
        "\n",
        "    {\n",
        "        \"role\": \"user\",\n",
        "        \"content\": \"졸음 운전을 방지하기 위해 지속적으로 대화해 줘. 출력형식: '졸린정도(숫자만)#GPT답변'의 형태로 합니다.\" + query\n",
        "    },\n",
        "]\n",
        "\n",
        "response = openai.ChatCompletion.create(\n",
        "    model=model,\n",
        "    messages=messages,\n",
        ")\n",
        "\n",
        "answer = response['choices'][0]['message']['content']\n",
        "print(answer)"
      ],
      "metadata": {
        "colab": {
          "base_uri": "https://localhost:8080/"
        },
        "id": "6N69KpzaPiss",
        "outputId": "1b572425-1cdd-4fd2-bb45-e7871ad7872c"
      },
      "execution_count": null,
      "outputs": [
        {
          "output_type": "stream",
          "name": "stdout",
          "text": [
            "3#배고픈 상태에서 운전을 하면 집중력이 떨어지므로 식사를 하시는 것이 좋아요. 오늘 저녁으로는 뭐 먹고 싶은 음식이 있나요?\n"
          ]
        }
      ]
    },
    {
      "cell_type": "code",
      "source": [
        "import openai\n",
        "\n",
        "model = 'gpt-3.5-turbo'\n",
        "\n",
        "def get_sleepiness_response(query):\n",
        "    \"\"\"\n",
        "    This function returns the sleepiness level and GPT's response based on the user's query.\n",
        "    \"\"\"\n",
        "    # System message to set the context for the model\n",
        "    system_message = {\n",
        "        \"role\": \"system\",\n",
        "        \"content\": (\"당신은 운전 중인 사람과 지속적으로 대화하며 그의 졸림 상태를 평가하는 시스템입니다. \"\n",
        "                    \"사용자의 대화 내용을 기반으로 졸림의 정도를 0(전혀 졸리지 않음)부터 10(매우 졸림)까지의 숫자로 판단해주세요. \"\n",
        "                    \"응답은 반드시 '숫자#(GPT답변)' 형식을 지켜야 합니다. 다른 형식으로 응답하지 마세요.\")\n",
        "    }\n",
        "\n",
        "    # User's initial message combined with the query\n",
        "    user_message = {\n",
        "        \"role\": \"user\",\n",
        "        \"content\": query\n",
        "    }\n",
        "\n",
        "    # Send the messages to the model\n",
        "    response = openai.ChatCompletion.create(\n",
        "        model=model,\n",
        "        messages=[system_message, user_message],\n",
        "    )\n",
        "\n",
        "    return response['choices'][0]['message']['content']\n",
        "\n"
      ],
      "metadata": {
        "id": "EneNmrWlqssv"
      },
      "execution_count": null,
      "outputs": []
    },
    {
      "cell_type": "code",
      "source": [
        "# Example usage\n",
        "query = \"아니 안졸려, 잠깐 졸았는데 괜찮아\"\n",
        "print(get_sleepiness_response(query))"
      ],
      "metadata": {
        "colab": {
          "base_uri": "https://localhost:8080/"
        },
        "id": "Fri-2YrjrdP5",
        "outputId": "22ebe244-3ae6-46ae-862a-520a39c3c704"
      },
      "execution_count": null,
      "outputs": [
        {
          "output_type": "stream",
          "name": "stdout",
          "text": [
            "2#졸음이 약간 있었을 수 있으나 아직 괜찮은 상태입니다. 계속해서 안전 운전을 유지해주세요.\n"
          ]
        }
      ]
    },
    {
      "cell_type": "code",
      "source": [
        "# Example usage\n",
        "query = \"조금 졸리네, 컴퓨터 얘기 하고 싶다.\"\n",
        "print(get_sleepiness_response(query))"
      ],
      "metadata": {
        "colab": {
          "base_uri": "https://localhost:8080/"
        },
        "id": "9NvTenX3v11b",
        "outputId": "2f4978c0-b965-4273-adf9-8018ebcb8970"
      },
      "execution_count": null,
      "outputs": [
        {
          "output_type": "stream",
          "name": "stdout",
          "text": [
            "4#졸음이 조금 있으시군요. 컴퓨터에 대해 얘기해볼까요? 어떤 주제로 얘기할까요?\n"
          ]
        }
      ]
    },
    {
      "cell_type": "code",
      "source": [
        "# Example usage\n",
        "query = \"컴퓨터 이야기 하자\"\n",
        "print(get_sleepiness_response(query))"
      ],
      "metadata": {
        "colab": {
          "base_uri": "https://localhost:8080/"
        },
        "id": "DR1avoC6wD0M",
        "outputId": "c9784b56-dcdc-4c6f-f609-8f50e4127534"
      },
      "execution_count": null,
      "outputs": [
        {
          "output_type": "stream",
          "name": "stdout",
          "text": [
            "0#제가 졸리지 않은 상태에서 컴퓨터 이야기를 나누도록 하겠습니다. 무슨 컴퓨터 이야기로 시작할까요?\n"
          ]
        }
      ]
    },
    {
      "cell_type": "code",
      "source": [
        "# Example usage\n",
        "query = \"CPU에 대해서 토론해보자\"\n",
        "print(get_sleepiness_response(query))"
      ],
      "metadata": {
        "colab": {
          "base_uri": "https://localhost:8080/"
        },
        "id": "6i_OCT1ywGfD",
        "outputId": "6b9fc41d-1bfb-4286-d8d0-047dbf457491"
      },
      "execution_count": null,
      "outputs": [
        {
          "output_type": "stream",
          "name": "stdout",
          "text": [
            "2#최근 CPU의 발전으로 성능이 대폭 향상되었고, 더 효율적인 작업 처리와 높은 속도를 제공합니다. 그러나 고성능 CPU는 높은 발열을 일으키며 전력 소모가 크기 때문에, 적절한 냉각 시스템과 전력 관리가 필요합니다. 또한, 클라우드 컴퓨팅과 인공지능 분야의 발전에 따라 빠른 데이터 처리와 병렬 처리 능력이 요구되는 추세입니다. 이에 따라 다양한 제조업체가 경쟁하여 성능, 가격, 전력 효율성 등 다양한 측면에서 향상된 CPU를 개발하고 있습니다.\n"
          ]
        }
      ]
    },
    {
      "cell_type": "code",
      "source": [
        "query = '''짜장면'''"
      ],
      "metadata": {
        "id": "Ky6fSeknpZWP"
      },
      "execution_count": null,
      "outputs": []
    },
    {
      "cell_type": "code",
      "source": [
        "response = openai.ChatCompletion.create(\n",
        "    model=model,\n",
        "    messages=messages,\n",
        ")\n",
        "\n",
        "answer = response['choices'][0]['message']['content']\n",
        "print(answer)"
      ],
      "metadata": {
        "colab": {
          "base_uri": "https://localhost:8080/"
        },
        "id": "ND2IRmGkpOiC",
        "outputId": "039d5efa-93b8-4542-a819-d071328e29fa"
      },
      "execution_count": null,
      "outputs": [
        {
          "output_type": "stream",
          "name": "stdout",
          "text": [
            "졸린정도0#오늘 저녁 뭐 먹을지 고민되네요. 어떤 음식이 땡기나요?\n"
          ]
        }
      ]
    },
    {
      "cell_type": "code",
      "source": [
        "model='gpt-3.5-turbo'\n",
        "\n",
        "query = '''아 오늘 직장 상사 떄문에 피곤해서 잠을 잘 못잤네'''\n",
        "\n",
        "messages = [\n",
        "    {\n",
        "        \"role\": \"system\",\n",
        "        \"content\": \"너는 졸음 운전을 방지해주는 인공지능이야. 운전자가 운전을 하다가 조는 것을 방지해 지속적으로 대화를 이어나가는 역할이야.\"\n",
        "    },\n",
        "\n",
        "    {\n",
        "        \"role\": \"user\",\n",
        "        \"content\": \"운전자가 말하면 그에 공감도 해주고 그의 대답에 연계되는 질문도 해주는 등 대화를 이어나가줘. 인공지능과 대화 하는 것이 아니라 사람과 대화하는 것처럼 느끼게 자연스럽게 대화해줘.\"\n",
        "    },\n",
        "        {\n",
        "        \"role\": \"system\",\n",
        "        \"content\": \"혹시 졸리신가요? 오늘 있었던 일을 공유해주세요\"\n",
        "    },\n",
        "        {\n",
        "        \"role\": \"user\",\n",
        "        \"content\": \"운전자: \"+ query\n",
        "    },\n",
        "]\n",
        "\n",
        "response = openai.ChatCompletion.create(\n",
        "    model=model,\n",
        "    messages=messages,\n",
        ")\n",
        "answer = response['choices'][0]['message']['content']\n",
        "print(answer)"
      ],
      "metadata": {
        "colab": {
          "base_uri": "https://localhost:8080/"
        },
        "id": "_fdiD1GdZnRB",
        "outputId": "41781543-d840-4c6f-f407-162bcf48cfac"
      },
      "execution_count": null,
      "outputs": [
        {
          "output_type": "stream",
          "name": "stdout",
          "text": [
            "저도 그렇게 힘들면 피곤하게 될 것 같아요. 상사의 태도가 어땠나요? 상사가 피곤한 일을 시키면 정말 힘들어지겠죠.\n"
          ]
        }
      ]
    },
    {
      "cell_type": "code",
      "source": [
        "import openai\n",
        "\n",
        "openai.api_key  = '*'"
      ],
      "metadata": {
        "id": "cYDNXt1rbmG2"
      },
      "execution_count": null,
      "outputs": []
    },
    {
      "cell_type": "code",
      "execution_count": null,
      "metadata": {
        "colab": {
          "base_uri": "https://localhost:8080/"
        },
        "id": "Do06ADUTGUsA",
        "outputId": "2c250773-dcb7-4e58-df77-c48ddd044d17"
      },
      "outputs": [
        {
          "output_type": "stream",
          "name": "stdout",
          "text": [
            "90\n"
          ]
        }
      ],
      "source": [
        "model='gpt-3.5-turbo'\n",
        "\n",
        "query = '''아 오늘 직장 상사 떄문에 피곤해서 잠을 잘 못잤네, 졸려서 죽을 것 같아. 더이상은 못살아''' # 80\n",
        "# query = '''아 개운하다, 이렇게 컨티션이 좋을 줄이야''' # 0\n",
        "# query = '''아 배고프네, 오늘 저녁 뭐뭑지''' #40\n",
        "\n",
        "messages = [\n",
        "    {\n",
        "        \"role\": \"system\",\n",
        "        \"content\": \"너는 졸린 감정을 분석해주는 역할이야. 주어진 문장 내용을 기반으로 얼마나 졸려하는지 평가해줘. 너무 심하게 피곤하고 졸리면 100, 적탕하면 50, 전혀 안 피곤하면 0 쪽으로 출력해줘. 즉 감정을 0,1,2,3,4,5,6,7,8..., 98, 99, 100 으로 0~100사이 정수로 출력해줘. 글은 필요 없고 숫자만 출력해줘.\"\n",
        "    },\n",
        "    {\n",
        "        \"role\": \"user\",\n",
        "        \"content\": query\n",
        "    },\n",
        "\n",
        "]\n",
        "\n",
        "response = openai.ChatCompletion.create(\n",
        "    model=model,\n",
        "    messages=messages,\n",
        ")\n",
        "\n",
        "answer = response['choices'][0]['message']['content']\n",
        "print(answer)"
      ]
    }
  ]
}